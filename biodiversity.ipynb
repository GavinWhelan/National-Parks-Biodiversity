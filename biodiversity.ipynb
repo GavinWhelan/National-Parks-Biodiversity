{
 "cells": [
  {
   "cell_type": "markdown",
   "metadata": {},
   "source": [
    "# Biodiversity in National Parks\n",
    "##### Created by Gavin Whelan\n",
    "## Introduction\n",
    "This project is the culmination of my participation in the Data Science/Visualization portion of the Codecademy Data Science for Natural Language Processing course. It will use data provided by Codecademy.com, which is mostly fictional. \n",
    "\n",
    "DATA SOURCES: There are two data sources provided, observations.csv and species_info.csv"
   ]
  },
  {
   "cell_type": "markdown",
   "metadata": {},
   "source": [
    "## Scoping\n",
    "Here, I'll outline the scope of this project.\n",
    "\n",
    "### Project Goals\n",
    "The research questions I'd like to delve into. I'll revisit these in the Conclusion, and decide the extent to which I was able to answer them. I will focus mostly on species endangerment, since this is vital to conservation efforts.\n",
    "- How can we describe the distribution of species' endangerment? \n",
    "- How are endangered species threatened based on where they are located? Can we say anything about how certain climates affect species status?\n",
    "- How have species been affected over time?\n",
    "- Are different types of species endangered more than others?\n",
    "\n",
    "### Data\n",
    "As stated in the Introduction, I wwill be using the provided Observations.csv and Species_info.csv. Observations.csv contains observations of particular animals, annd Species_info.csv contains information about different species and where they are found.\n",
    "\n",
    "### Analysis\n",
    "I will begin by getting a sense of the data, then move on to more thorough investigations, as outlined below:\n",
    "- Examine the distributions of different species within parks\n",
    "- Look for correlations between location and conservation status\n",
    "\n",
    "I will also use statistical inference to determine whether findings are statistically significant.\n",
    "\n",
    "### Evaluation\n",
    "In this section I'll revisit the research questions outlined in the Project Goals, anmd determine the extent to which I've been able to answer them."
   ]
  },
  {
   "cell_type": "markdown",
   "metadata": {},
   "source": [
    "## Import Libraries"
   ]
  },
  {
   "cell_type": "code",
   "execution_count": 1,
   "metadata": {},
   "outputs": [],
   "source": [
    "import numpy as np\n",
    "import pandas as pd\n",
    "import matplotlib.pyplot as plt\n",
    "import seaborn as sns"
   ]
  },
  {
   "cell_type": "markdown",
   "metadata": {},
   "source": [
    "## Load the Data"
   ]
  },
  {
   "cell_type": "code",
   "execution_count": 2,
   "metadata": {},
   "outputs": [],
   "source": [
    "observations = pd.read_csv('observations.csv')\n",
    "species_info = pd.read_csv('species_info.csv')"
   ]
  },
  {
   "cell_type": "code",
   "execution_count": 3,
   "metadata": {},
   "outputs": [
    {
     "name": "stdout",
     "output_type": "stream",
     "text": [
      "            scientific_name                            park_name  observations\n",
      "0        Vicia benghalensis  Great Smoky Mountains National Park            68\n",
      "1            Neovison vison  Great Smoky Mountains National Park            77\n",
      "2         Prunus subcordata               Yosemite National Park           138\n",
      "3      Abutilon theophrasti                  Bryce National Park            84\n",
      "4  Githopsis specularioides  Great Smoky Mountains National Park            85\n"
     ]
    }
   ],
   "source": [
    "print(observations.head(5))"
   ]
  },
  {
   "cell_type": "code",
   "execution_count": 4,
   "metadata": {},
   "outputs": [
    {
     "name": "stdout",
     "output_type": "stream",
     "text": [
      "  category                scientific_name  \\\n",
      "0   Mammal  Clethrionomys gapperi gapperi   \n",
      "1   Mammal                      Bos bison   \n",
      "2   Mammal                     Bos taurus   \n",
      "3   Mammal                     Ovis aries   \n",
      "4   Mammal                 Cervus elaphus   \n",
      "\n",
      "                                        common_names conservation_status  \n",
      "0                           Gapper's Red-Backed Vole                 NaN  \n",
      "1                              American Bison, Bison                 NaN  \n",
      "2  Aurochs, Aurochs, Domestic Cattle (Feral), Dom...                 NaN  \n",
      "3  Domestic Sheep, Mouflon, Red Sheep, Sheep (Feral)                 NaN  \n",
      "4                                      Wapiti Or Elk                 NaN  \n"
     ]
    }
   ],
   "source": [
    "print(species_info.head(5))"
   ]
  },
  {
   "cell_type": "code",
   "execution_count": 5,
   "metadata": {},
   "outputs": [
    {
     "name": "stdout",
     "output_type": "stream",
     "text": [
      "4455    American Mink\n",
      "Name: common_names, dtype: object\n"
     ]
    }
   ],
   "source": [
    "# It's been a hot sec since I've worked on Python so just testing out that this worked.\n",
    "# Also I thought the scientific name of thes species was 'NeovisIon visIon' which would have been sick.\n",
    "print(species_info.common_names[species_info.scientific_name == 'Neovison vison'])"
   ]
  },
  {
   "cell_type": "code",
   "execution_count": 6,
   "metadata": {},
   "outputs": [
    {
     "name": "stdout",
     "output_type": "stream",
     "text": [
      "scientific_name    object\n",
      "park_name          object\n",
      "observations        int64\n",
      "dtype: object\n",
      "\n",
      "category               object\n",
      "scientific_name        object\n",
      "common_names           object\n",
      "conservation_status    object\n",
      "dtype: object\n"
     ]
    }
   ],
   "source": [
    "print(observations.dtypes)\n",
    "print(\"\")\n",
    "print(species_info.dtypes)"
   ]
  },
  {
   "cell_type": "code",
   "execution_count": 7,
   "metadata": {},
   "outputs": [
    {
     "name": "stdout",
     "output_type": "stream",
     "text": [
      "scientific_name                      park_name                            observations\n",
      "Poa compressa                        Great Smoky Mountains National Park  80              2\n",
      "Salix exigua                         Yosemite National Park               186             2\n",
      "Eleocharis palustris                 Great Smoky Mountains National Park  62              2\n",
      "Potentilla norvegica                 Yosemite National Park               148             2\n",
      "Spilogale putorius                   Yellowstone National Park            256             2\n",
      "                                                                                         ..\n",
      "Entodon sullivantii                  Yosemite National Park               165             1\n",
      "                                     Yellowstone National Park            237             1\n",
      "                                     Great Smoky Mountains National Park  64              1\n",
      "                                     Bryce National Park                  85              1\n",
      "Zygodon viridissimus var. rupestris  Yosemite National Park               210             1\n",
      "Length: 23281, dtype: int64\n"
     ]
    }
   ],
   "source": [
    "print(observations.value_counts())"
   ]
  },
  {
   "cell_type": "code",
   "execution_count": 8,
   "metadata": {},
   "outputs": [
    {
     "name": "stdout",
     "output_type": "stream",
     "text": [
      "category        scientific_name         common_names                                       conservation_status\n",
      "Amphibian       Anaxyrus canorus        Yosemite Toad                                      Threatened             1\n",
      "Mammal          Sylvilagus bachmani     Brush Rabbit                                       Species of Concern     1\n",
      "                Myotis lucifugus        Little Brown Myotis                                Species of Concern     1\n",
      "                Myotis septentrionalis  Northern Long-Eared Bat, Northern Myotis           Threatened             1\n",
      "                Myotis sodalis          Indiana Bat, Indiana Or Social Myotis              Endangered             1\n",
      "                                                                                                                 ..\n",
      "Bird            Pipilo chlorurus        Green-Tailed Towhee                                Species of Concern     1\n",
      "                Piranga rubra           Summer Tanager                                     Species of Concern     1\n",
      "                Plegadis chihi          White-Faced Ibis                                   Species of Concern     1\n",
      "                Progne subis            Purple Martin                                      Species of Concern     1\n",
      "Vascular Plant  Zizia trifoliata        Meadow Alexanders, Three-Leaved Golden Alexanders  Species of Concern     1\n",
      "Length: 191, dtype: int64\n"
     ]
    }
   ],
   "source": [
    "print(species_info.value_counts())"
   ]
  },
  {
   "cell_type": "code",
   "execution_count": 9,
   "metadata": {},
   "outputs": [],
   "source": [
    "# It looks like there are some duplicate rows in observations--let's remedy that.\n",
    "\n",
    "#observations_new = observations.drop_duplicates().reset_index()\n",
    "#We'll use observations_new from now on\n",
    "\n",
    "# WE CAN'T DO THIS! There are multiple listings for each species and park combination, so it just\n",
    "# happens that there are duplicates, and we can't assume they're erroneous."
   ]
  },
  {
   "cell_type": "markdown",
   "metadata": {},
   "source": [
    "### Exploration\n",
    "Getting a sense of what the data looks like. I want to figure out the distributions of different variables."
   ]
  },
  {
   "cell_type": "code",
   "execution_count": 10,
   "metadata": {},
   "outputs": [
    {
     "name": "stdout",
     "output_type": "stream",
     "text": [
      "Great Smoky Mountains National Park    5824\n",
      "Yosemite National Park                 5824\n",
      "Bryce National Park                    5824\n",
      "Yellowstone National Park              5824\n",
      "Name: park_name, dtype: int64\n"
     ]
    }
   ],
   "source": [
    "# How many entries are there for each park?\n",
    "\n",
    "print(observations.park_name.value_counts())"
   ]
  },
  {
   "cell_type": "code",
   "execution_count": 11,
   "metadata": {},
   "outputs": [
    {
     "name": "stdout",
     "output_type": "stream",
     "text": [
      "5541\n"
     ]
    }
   ],
   "source": [
    "print(observations.scientific_name.nunique())"
   ]
  },
  {
   "cell_type": "markdown",
   "metadata": {},
   "source": [
    "Looks like there are 5541 different species!"
   ]
  },
  {
   "cell_type": "code",
   "execution_count": 12,
   "metadata": {},
   "outputs": [
    {
     "name": "stdout",
     "output_type": "stream",
     "text": [
      "3314739\n"
     ]
    }
   ],
   "source": [
    "print(observations.observations.sum())"
   ]
  },
  {
   "cell_type": "markdown",
   "metadata": {},
   "source": [
    "And there are 3,314,739 separate observations. That's a lot of observations."
   ]
  },
  {
   "cell_type": "code",
   "execution_count": null,
   "metadata": {},
   "outputs": [],
   "source": []
  },
  {
   "cell_type": "code",
   "execution_count": 13,
   "metadata": {},
   "outputs": [
    {
     "name": "stdout",
     "output_type": "stream",
     "text": [
      "         scientific_name                            park_name  observations\n",
      "951    Castor canadensis  Great Smoky Mountains National Park            95\n",
      "3792   Castor canadensis  Great Smoky Mountains National Park            62\n",
      "6186   Castor canadensis            Yellowstone National Park           183\n",
      "6303   Castor canadensis                  Bryce National Park            70\n",
      "9811   Castor canadensis            Yellowstone National Park           256\n",
      "10282  Castor canadensis               Yosemite National Park           149\n",
      "13025  Castor canadensis            Yellowstone National Park           264\n",
      "13825  Castor canadensis                  Bryce National Park           105\n",
      "14391  Castor canadensis               Yosemite National Park           191\n",
      "16654  Castor canadensis                  Bryce National Park           103\n",
      "19563  Castor canadensis  Great Smoky Mountains National Park            86\n",
      "19997  Castor canadensis               Yosemite National Park           161\n"
     ]
    }
   ],
   "source": [
    "# I noticed that certain species showed up with 12 different observation values, and this is what I got.\n",
    "# Looks like there's multiple entries for EACH PARK for EACH SPECIES.\n",
    "\n",
    "print(observations[observations.scientific_name == 'Castor canadensis'])"
   ]
  },
  {
   "cell_type": "code",
   "execution_count": 14,
   "metadata": {},
   "outputs": [
    {
     "name": "stdout",
     "output_type": "stream",
     "text": [
      "scientific_name\n",
      "Abies bifolia                          532\n",
      "Abies concolor                         630\n",
      "Abies fraseri                          518\n",
      "Abietinella abietina                   592\n",
      "Abronia ammophila                      523\n",
      "                                      ... \n",
      "Zonotrichia leucophrys gambelii        560\n",
      "Zonotrichia leucophrys oriantha        558\n",
      "Zonotrichia querula                    616\n",
      "Zygodon viridissimus                   600\n",
      "Zygodon viridissimus var. rupestris    651\n",
      "Name: observations, Length: 5541, dtype: int64\n"
     ]
    }
   ],
   "source": [
    "# How many observations are there of each species?\n",
    "\n",
    "# This didn't do what I wanted before. I want a dataframe that has an index of species name\n",
    "# and a column containing how many times that species has been seen in ANY park.\n",
    "\n",
    "observations_by_species = observations.groupby('scientific_name')['observations'].sum()\n",
    "\n",
    "print(observations_by_species)"
   ]
  },
  {
   "cell_type": "code",
   "execution_count": 15,
   "metadata": {},
   "outputs": [
    {
     "name": "stdout",
     "output_type": "stream",
     "text": [
      "<class 'pandas.core.frame.DataFrame'>\n",
      "RangeIndex: 5824 entries, 0 to 5823\n",
      "Data columns (total 4 columns):\n",
      " #   Column               Non-Null Count  Dtype \n",
      "---  ------               --------------  ----- \n",
      " 0   category             5824 non-null   object\n",
      " 1   scientific_name      5824 non-null   object\n",
      " 2   common_names         5824 non-null   object\n",
      " 3   conservation_status  191 non-null    object\n",
      "dtypes: object(4)\n",
      "memory usage: 182.1+ KB\n",
      "None\n"
     ]
    }
   ],
   "source": [
    "# In looking back over this project, I noticed that there were a lot of species with Null\n",
    "# values for conservation status. Turns out I was right. Let's take a closer look at that.\n",
    "\n",
    "print(species_info.info())"
   ]
  },
  {
   "cell_type": "code",
   "execution_count": 16,
   "metadata": {},
   "outputs": [
    {
     "name": "stdout",
     "output_type": "stream",
     "text": [
      "na entries: 5633\n",
      "Species of Concern    161\n",
      "Endangered             16\n",
      "Threatened             10\n",
      "In Recovery             4\n",
      "Name: conservation_status, dtype: int64\n"
     ]
    }
   ],
   "source": [
    "print(f\"na entries: {species_info.conservation_status.isna().sum()}\" )\n",
    "\n",
    "print(species_info.conservation_status.value_counts())"
   ]
  },
  {
   "cell_type": "markdown",
   "metadata": {},
   "source": [
    "So there are 5633 species of no concern, 161 species of concern, 16 endangered species, and 4 species in recovery"
   ]
  },
  {
   "cell_type": "code",
   "execution_count": 17,
   "metadata": {},
   "outputs": [
    {
     "name": "stdout",
     "output_type": "stream",
     "text": [
      "['Mammal' 'Bird' 'Reptile' 'Amphibian' 'Fish' 'Vascular Plant'\n",
      " 'Nonvascular Plant']\n"
     ]
    }
   ],
   "source": [
    "print(species_info.category.unique())"
   ]
  },
  {
   "cell_type": "code",
   "execution_count": 18,
   "metadata": {},
   "outputs": [
    {
     "name": "stdout",
     "output_type": "stream",
     "text": [
      "Vascular Plant       4470\n",
      "Bird                  521\n",
      "Nonvascular Plant     333\n",
      "Mammal                214\n",
      "Fish                  127\n",
      "Amphibian              80\n",
      "Reptile                79\n",
      "Name: category, dtype: int64\n"
     ]
    }
   ],
   "source": [
    "print(species_info.category.value_counts())"
   ]
  },
  {
   "cell_type": "markdown",
   "metadata": {},
   "source": [
    "#### Note:\n",
    "So we see that the options are \"Species of Concern\", \"Endangered\", \"Threatened\", and \"In Recovery\". Given the ubiquity of the species list, I would guess that each species with a null value is not in danger. We will keep that assumption moving forward."
   ]
  },
  {
   "cell_type": "code",
   "execution_count": 19,
   "metadata": {},
   "outputs": [],
   "source": [
    "# Let's make a list of just the species in trouble.\n",
    "\n",
    "species_trouble = species_info.dropna(subset = ['conservation_status']).reset_index()"
   ]
  },
  {
   "cell_type": "code",
   "execution_count": 20,
   "metadata": {},
   "outputs": [
    {
     "name": "stdout",
     "output_type": "stream",
     "text": [
      "   index category            scientific_name       common_names  \\\n",
      "0      7   Mammal              Canis latrans             Coyote   \n",
      "1      8   Mammal                Canis lupus          Gray Wolf   \n",
      "2      9   Mammal                Canis rufus           Red Wolf   \n",
      "3     29   Mammal           Eptesicus fuscus      Big Brown Bat   \n",
      "4     30   Mammal  Lasionycteris noctivagans  Silver-Haired Bat   \n",
      "\n",
      "  conservation_status  \n",
      "0  Species of Concern  \n",
      "1          Endangered  \n",
      "2          Endangered  \n",
      "3  Species of Concern  \n",
      "4  Species of Concern  \n"
     ]
    }
   ],
   "source": [
    "print(species_trouble.head())"
   ]
  },
  {
   "cell_type": "markdown",
   "metadata": {},
   "source": [
    "### Analysis"
   ]
  },
  {
   "cell_type": "code",
   "execution_count": 21,
   "metadata": {},
   "outputs": [
    {
     "data": {
      "text/plain": [
       "conservation_status\n",
       "Endangered              16\n",
       "In Recovery              4\n",
       "No Intervention       5633\n",
       "Species of Concern     161\n",
       "Threatened              10\n",
       "dtype: int64"
      ]
     },
     "execution_count": 21,
     "metadata": {},
     "output_type": "execute_result"
    }
   ],
   "source": [
    "# Taking our cue from the sample project, let's change the Null values from the conservation_status\n",
    "#   column of species_info and relabel it as \"No Intervention\"\n",
    "\n",
    "species_info.fillna('No Intervention', inplace=True)\n",
    "species_info.groupby('conservation_status').size()"
   ]
  },
  {
   "cell_type": "code",
   "execution_count": 22,
   "metadata": {},
   "outputs": [
    {
     "name": "stdout",
     "output_type": "stream",
     "text": [
      "category             Amphibian  Bird  Fish  Mammal  Nonvascular Plant  \\\n",
      "conservation_status                                                     \n",
      "Endangered                 1.0   4.0   3.0     7.0                NaN   \n",
      "In Recovery                NaN   3.0   NaN     1.0                NaN   \n",
      "Species of Concern         4.0  72.0   4.0    28.0                5.0   \n",
      "Threatened                 2.0   NaN   4.0     2.0                NaN   \n",
      "\n",
      "category             Reptile  Vascular Plant  \n",
      "conservation_status                           \n",
      "Endangered               NaN             1.0  \n",
      "In Recovery              NaN             NaN  \n",
      "Species of Concern       5.0            43.0  \n",
      "Threatened               NaN             2.0  \n"
     ]
    }
   ],
   "source": [
    "conservationCategory = species_info[species_info.conservation_status != \"No Intervention\"]\\\n",
    "    .groupby([\"conservation_status\", \"category\"])['scientific_name']\\\n",
    "    .count().unstack()\n",
    "\n",
    "print(conservationCategory)"
   ]
  },
  {
   "cell_type": "code",
   "execution_count": 23,
   "metadata": {},
   "outputs": [
    {
     "data": {
      "text/plain": [
       "Text(0, 0.5, 'Number of Species')"
      ]
     },
     "execution_count": 23,
     "metadata": {},
     "output_type": "execute_result"
    },
    {
     "data": {
      "image/png": "[encoded data removed]",
      "text/plain": [
       "<Figure size 800x600 with 1 Axes>"
      ]
     },
     "metadata": {},
     "output_type": "display_data"
    }
   ],
   "source": [
    "ax = conservationCategory.plot(kind = 'bar', figsize=(8,6), stacked=True)\n",
    "ax.set_xlabel(\"Conservation Status\")\n",
    "ax.set_ylabel(\"Number of Species\")"
   ]
  },
  {
   "cell_type": "markdown",
   "metadata": {},
   "source": [
    "#### Observations by park\n",
    "Now we'll take a look and see which parks have the most observations in them."
   ]
  },
  {
   "cell_type": "code",
   "execution_count": 24,
   "metadata": {},
   "outputs": [
    {
     "name": "stdout",
     "output_type": "stream",
     "text": [
      "park_name               scientific_name                    \n",
      "Bryce National Park     Abies bifolia                          109\n",
      "                        Abies concolor                          83\n",
      "                        Abies fraseri                          109\n",
      "                        Abietinella abietina                   101\n",
      "                        Abronia ammophila                       92\n",
      "                                                              ... \n",
      "Yosemite National Park  Zonotrichia leucophrys gambelii        169\n",
      "                        Zonotrichia leucophrys oriantha        135\n",
      "                        Zonotrichia querula                    160\n",
      "                        Zygodon viridissimus                   159\n",
      "                        Zygodon viridissimus var. rupestris    210\n",
      "Name: observations, Length: 22164, dtype: int64\n"
     ]
    }
   ],
   "source": [
    "parkObservations = observations.groupby([\"park_name\", \"scientific_name\"])[\"observations\"].sum()\n",
    "\n",
    "print(parkObservations)"
   ]
  },
  {
   "cell_type": "markdown",
   "metadata": {},
   "source": [
    "That printed by park and by species, but that's pretty hard to read. This might be useful later if we want to group by animal type, but for now I'm going to take out the part about the scientific name."
   ]
  },
  {
   "cell_type": "code",
   "execution_count": 25,
   "metadata": {},
   "outputs": [
    {
     "name": "stdout",
     "output_type": "stream",
     "text": [
      "park_name\n",
      "Bryce National Park                     576025\n",
      "Great Smoky Mountains National Park     431820\n",
      "Yellowstone National Park              1443562\n",
      "Yosemite National Park                  863332\n",
      "Name: observations, dtype: int64\n"
     ]
    }
   ],
   "source": [
    "# Create a new Series called parkObservations, grouping by park name and setting the values to the\n",
    "#   sum of all observations\n",
    "parkObservations = observations.groupby([\"park_name\"])[\"observations\"].sum()\n",
    "\n",
    "print(parkObservations)"
   ]
  },
  {
   "cell_type": "code",
   "execution_count": 26,
   "metadata": {},
   "outputs": [],
   "source": [
    "new_indices = [park.rstrip(\" National Park\") for park in parkObservations.index]"
   ]
  },
  {
   "cell_type": "code",
   "execution_count": 27,
   "metadata": {},
   "outputs": [
    {
     "data": {
      "image/png": "[encoded data removed]",
      "text/plain": [
       "<Figure size 800x600 with 1 Axes>"
      ]
     },
     "metadata": {},
     "output_type": "display_data"
    },
    {
     "data": {
      "text/plain": [
       "<Figure size 640x480 with 0 Axes>"
      ]
     },
     "metadata": {},
     "output_type": "display_data"
    }
   ],
   "source": [
    "# Adjust the size of the figure\n",
    "plt.figure(figsize=(8,6))\n",
    "\n",
    "# Set the axis labels and the title of the figure\n",
    "plt.xlabel(\"Park Name\")\n",
    "plt.ylabel(\"Total observations (in millions)\")\n",
    "plt.xticks(range(len(new_indices)), new_indices)\n",
    "\n",
    "plt.title(\"Total Observations by Park\")\n",
    "\n",
    "# Import the data from the parkObservations Series\n",
    "plt.bar(parkObservations.index, parkObservations.values / 1000000.0)\n",
    "\n",
    "# Show the graph\n",
    "plt.show()\n",
    "\n",
    "# Close the graph\n",
    "plt.clf()"
   ]
  },
  {
   "cell_type": "markdown",
   "metadata": {},
   "source": [
    "So it looks like there's more observations in Yellowstone by a large margin. I wonder why this is--are there more animals in Yellowstone, or is there just more infrastructure for recording observations?"
   ]
  },
  {
   "cell_type": "markdown",
   "metadata": {},
   "source": [
    "#### Endangered Species by Park\n",
    "I want to meld the two dataframes, so I can really dig into how many species are at each endangerment level in each park. My goal is something like the bar graph of total observations, but with the number in each endangerment category stacked."
   ]
  },
  {
   "cell_type": "markdown",
   "metadata": {},
   "source": [
    "First, we need to get the right dataframe. We need the park_name, the conservation_status, and the observations, grouped by park_name and conservation_status."
   ]
  },
  {
   "cell_type": "code",
   "execution_count": 28,
   "metadata": {},
   "outputs": [
    {
     "name": "stdout",
     "output_type": "stream",
     "text": [
      "                                     Endangered  In Recovery  \\\n",
      "park_name                                                      \n",
      "Bryce National Park                         619          388   \n",
      "Great Smoky Mountains National Park         393          248   \n",
      "Yellowstone National Park                  1558          889   \n",
      "Yosemite National Park                      943          582   \n",
      "\n",
      "                                     Species of Concern  Threatened  \\\n",
      "park_name                                                             \n",
      "Bryce National Park                               17011         591   \n",
      "Great Smoky Mountains National Park               11735         440   \n",
      "Yellowstone National Park                         40677        1459   \n",
      "Yosemite National Park                            24539         849   \n",
      "\n",
      "                                     observations  \n",
      "park_name                                          \n",
      "Bryce National Park                        576025  \n",
      "Great Smoky Mountains National Park        431820  \n",
      "Yellowstone National Park                 1443562  \n",
      "Yosemite National Park                     863332  \n"
     ]
    }
   ],
   "source": [
    "# Strip out all the species that aren't endangered--it makes the data hard to read, and we'll express\n",
    "#   the quantities of endangered sightings in terms of percentages of total sightings, so no data\n",
    "#   will be lost.\n",
    "species_info_endangered = species_info[species_info.conservation_status != \"No Intervention\"]\n",
    "\n",
    "# Merge observations and species_info_endangered on scientific_name\n",
    "observations_merged = pd.merge(observations, species_info_endangered, on=\"scientific_name\")\n",
    "\n",
    "# Rename the columns\n",
    "observations_merged = observations_merged.rename(columns={\"observations_x\": \"observations\",\\\n",
    "                                                          \"observations_y\": \"observations_total\"})\n",
    "\n",
    "observations_endangered = observations_merged.groupby([\"park_name\", \"conservation_status\"])\\\n",
    "    [\"observations\"].sum().unstack()\n",
    "\n",
    "observations_endangered_merged = pd.merge(observations_endangered,\\\n",
    "                                           parkObservations.to_frame(),\\\n",
    "                                           left_on = \"park_name\",\\\n",
    "                                           right_index=True)\n",
    "\n",
    "print(observations_endangered_merged)"
   ]
  },
  {
   "cell_type": "code",
   "execution_count": 47,
   "metadata": {},
   "outputs": [
    {
     "name": "stdout",
     "output_type": "stream",
     "text": [
      "['Species of Concern' 'Endangered' 'Threatened' 'In Recovery']\n",
      "                                     Species of Concern  Endangered  \\\n",
      "park_name                                                             \n",
      "Bryce National Park                            2.953170    0.107461   \n",
      "Great Smoky Mountains National Park            2.717568    0.091010   \n",
      "Yellowstone National Park                      2.817821    0.107927   \n",
      "Yosemite National Park                         2.842360    0.109228   \n",
      "\n",
      "                                     Threatened  In Recovery  \n",
      "park_name                                                     \n",
      "Bryce National Park                    0.102600     0.067358  \n",
      "Great Smoky Mountains National Park    0.101894     0.057431  \n",
      "Yellowstone National Park              0.101069     0.061584  \n",
      "Yosemite National Park                 0.098340     0.067413  \n"
     ]
    }
   ],
   "source": [
    "# Make a list of the unique conservation statuses other than \"No Intervention\" (just a bucket for the\n",
    "#   labels)\n",
    "cstats = species_info[\"conservation_status\"].unique()\n",
    "conservation_statuses = cstats[cstats != \"No Intervention\"]\n",
    "\n",
    "print(conservation_statuses)\n",
    "\n",
    "observ_endan_percent = observations_endangered_merged[conservation_statuses]\\\n",
    "                        .div(observations_endangered_merged['observations'], axis=0) * 100\n",
    "\n",
    "print(observ_endan_percent)"
   ]
  },
  {
   "cell_type": "code",
   "execution_count": 51,
   "metadata": {},
   "outputs": [
    {
     "data": {
      "image/png": "[encoded data removed]",
      "text/plain": [
       "<Figure size 800x600 with 1 Axes>"
      ]
     },
     "metadata": {},
     "output_type": "display_data"
    },
    {
     "data": {
      "text/plain": [
       "<Figure size 640x480 with 0 Axes>"
      ]
     },
     "metadata": {},
     "output_type": "display_data"
    }
   ],
   "source": [
    "ax2 = observ_endan_percent.plot(kind = 'bar', figsize=(8,6), stacked=True)\n",
    "ax2.set_xlabel(\"Park Name\")\n",
    "ax2.set_ylabel(\"Percent of total observations\")\n",
    "ax2.set_xticklabels(ax2.get_xticklabels(), rotation=45)\n",
    "plt.title(\"Percentages of observations of endangered species\")\n",
    "plt.show()\n",
    "plt.clf()"
   ]
  },
  {
   "cell_type": "markdown",
   "metadata": {},
   "source": [
    "We see here that the percentages are roughly the same, potentially slightly more in Bryce National Park than in the rest, with the fewest being in Great Smoky Mountains National Park. My gut feeling is that this is just up to error, but I will have to think about how to test that."
   ]
  },
  {
   "cell_type": "markdown",
   "metadata": {},
   "source": [
    "#### Statistical Significance\n",
    "I'll run some chi squared tests here to see if different parks have statistically significant differences in conservation status rates. \n",
    "\n",
    "We'll use a p-value of 0.05, in accordance with common practice."
   ]
  },
  {
   "cell_type": "markdown",
   "metadata": {},
   "source": [
    "First, we'll compare Bryce and Great Smoky Mountains."
   ]
  },
  {
   "cell_type": "code",
   "execution_count": 33,
   "metadata": {},
   "outputs": [
    {
     "name": "stdout",
     "output_type": "stream",
     "text": [
      "                                     protected  not_protected\n",
      "park_name                                                    \n",
      "Bryce National Park                      18609         557416\n",
      "Great Smoky Mountains National Park      12816         419004\n",
      "Yellowstone National Park                44583        1398979\n",
      "Yosemite National Park                   26913         836419\n"
     ]
    }
   ],
   "source": [
    "from scipy.stats import chi2_contingency\n",
    "\n",
    "oem = pd.DataFrame()\n",
    "\n",
    "oem = observations_endangered_merged.copy()\n",
    "\n",
    "oem[\"protected\"] = observations_endangered_merged[conservation_statuses].sum(axis=1)\n",
    "oem[\"not_protected\"] = observations_endangered_merged['observations']\\\n",
    "                        - oem['protected']\n",
    "\n",
    "oem.drop(columns=np.append(conservation_statuses, \"observations\"), inplace=True)\n",
    "\n",
    "print(oem)"
   ]
  },
  {
   "cell_type": "code",
   "execution_count": 41,
   "metadata": {},
   "outputs": [
    {
     "data": {
      "text/plain": [
       "Chi2ContingencyResult(statistic=56.28963856308099, pvalue=6.254414982002641e-14, dof=1, expected_freq=array([[ 17960.68405856, 558064.31594144],\n",
       "       [ 13464.31594144, 418355.68405856]]))"
      ]
     },
     "execution_count": 41,
     "metadata": {},
     "output_type": "execute_result"
    }
   ],
   "source": [
    "park_1 = \"Bryce National Park\"\n",
    "park_2 = \"Great Smoky Mountains National Park\"\n",
    "\n",
    "values_park_1 = oem.loc[park_1, [\"protected\", \"not_protected\"]].values\n",
    "values_park_2 = oem.loc[park_2, [\"protected\", \"not_protected\"]].values\n",
    "\n",
    "contingency1 = [values_park_1,\\\n",
    "                values_park_2]\n",
    "\n",
    "chi2_contingency(contingency1)"
   ]
  },
  {
   "cell_type": "markdown",
   "metadata": {},
   "source": [
    "Here we have a p-value of 6.25e-14, which is miniscule compared to the standard p=0.05. Hence, we can say that Bryce is shown to have a statistically significant higher rate of observed endangered species."
   ]
  },
  {
   "cell_type": "code",
   "execution_count": 42,
   "metadata": {},
   "outputs": [
    {
     "data": {
      "text/plain": [
       "Chi2ContingencyResult(statistic=1.4968414290722887, pvalue=0.2211579999630593, dof=1, expected_freq=array([[  44739.33728728, 1398822.66271272],\n",
       "       [  26756.66271272,  836575.33728728]]))"
      ]
     },
     "execution_count": 42,
     "metadata": {},
     "output_type": "execute_result"
    }
   ],
   "source": [
    "park_1 = \"Yellowstone National Park\"\n",
    "park_2 = \"Yosemite National Park\"\n",
    "\n",
    "values_park_1 = oem.loc[park_1, [\"protected\", \"not_protected\"]].values\n",
    "values_park_2 = oem.loc[park_2, [\"protected\", \"not_protected\"]].values\n",
    "\n",
    "contingency1 = [values_park_1,\\\n",
    "                values_park_2]\n",
    "\n",
    "chi2_contingency(contingency1)"
   ]
  },
  {
   "cell_type": "markdown",
   "metadata": {},
   "source": [
    "Here, however, the p-value is 0.22, which is higher than the standard p=0.05. We can say that the number of species observed as endangered between these two parks is statistically insignificant."
   ]
  },
  {
   "cell_type": "code",
   "execution_count": 44,
   "metadata": {},
   "outputs": [
    {
     "data": {
      "text/plain": [
       "Chi2ContingencyResult(statistic=14.431357055582026, pvalue=0.0001453616457014566, dof=1, expected_freq=array([[ 18217.72503278, 557807.27496722],\n",
       "       [ 27304.27496722, 836027.72503278]]))"
      ]
     },
     "execution_count": 44,
     "metadata": {},
     "output_type": "execute_result"
    }
   ],
   "source": [
    "park_1 = \"Bryce National Park\"\n",
    "park_2 = \"Yosemite National Park\"\n",
    "\n",
    "values_park_1 = oem.loc[park_1, [\"protected\", \"not_protected\"]].values\n",
    "values_park_2 = oem.loc[park_2, [\"protected\", \"not_protected\"]].values\n",
    "\n",
    "contingency1 = [values_park_1,\\\n",
    "                values_park_2]\n",
    "\n",
    "chi2_contingency(contingency1)"
   ]
  },
  {
   "cell_type": "markdown",
   "metadata": {},
   "source": [
    "Finally, comparing Bryce and Yosemite, we see that there is a p-value of 0.00015, which is still much smaller than the standard p=0.05. Thus, there is a significant difference here as well. It turns out I was wrong, and the trends in the graph \"Percentages of Observations of Differrent Species\" are statistically significant after all."
   ]
  },
  {
   "cell_type": "markdown",
   "metadata": {},
   "source": [
    "## Conclusions\n",
    "I was able to make several data visualizations in this project, and compare the different parks to each other in terms of species endangerment. I was able to answer some of the original research questions:\n",
    "- How can we describe the distribution of species' endangerment? \n",
    "    - Many more species are not endangered than endangered (~3% are endangered in any given park).\n",
    "    - Among endangered species, a vast majority are Species of Concern, and many fewer are in another category.\n",
    "- How are endangered species threatened based on where they are located?\n",
    "    - There are significantly more endangered species in Bryce National Park than in any other park, and significantly fewer in Great Smoky Mountains National Park than any other park. "
   ]
  },
  {
   "cell_type": "markdown",
   "metadata": {},
   "source": [
    "## Further Research\n",
    "I was unable to answer my third question, \"How have species been affected over time?\", because the period of data collection was only 7 days for this data set. Additionally, I decided not to pursue the question about how different types of species are endangered. That would be a topic for further research, but I decided it would be beyond the scope of this project, seeing as the endangerment in different parrks yielded interesting results and ended up being more complicated than I expected.\n",
    "\n",
    "Further research could involve analysis of why Bryce exhibits so many more endangered species sightings than any other park. Is Bryce's region more impacted by climate change or hunting policies/practices than other parks? Similarly, why is Great Smoky National Park relatively low on endangered species? Are these species not native to the region, or have more of these endangered species died out, meaning Bryce would actually be the safer place for these endangered species? This would involve looking into the history of the parks and the typical habitats of the endangered species."
   ]
  }
 ],
 "metadata": {
  "kernelspec": {
   "display_name": "Python 3 (ipykernel)",
   "language": "python",
   "name": "python3"
  },
  "language_info": {
   "codemirror_mode": {
    "name": "ipython",
    "version": 3
   },
   "file_extension": ".py",
   "mimetype": "text/x-python",
   "name": "python",
   "nbconvert_exporter": "python",
   "pygments_lexer": "ipython3",
   "version": "3.10.9"
  }
 },
 "nbformat": 4,
 "nbformat_minor": 4
}
